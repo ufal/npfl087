{
 "cells": [
  {
   "cell_type": "code",
   "execution_count": 3,
   "metadata": {},
   "outputs": [],
   "source": [
    "import pickle\n",
    "import os\n",
    "\n",
    "# sequentially create pickled DB\n",
    "def save_data(obj, name):\n",
    "    with open(name + '.pkl', 'wb') as f:\n",
    "        pickle.dump(obj, f, pickle.HIGHEST_PROTOCOL)\n",
    "        \n",
    "def create_db_from_homonyme_files(lst_filenames, target_file):\n",
    "    word_wID = {}\n",
    "    wID_word = {}\n",
    "\n",
    "    wID_setID_lst  = {}\n",
    "    setID_wID_lst ={}\n",
    "\n",
    "    for filename in lst_filenames:\n",
    "        with open(filename, 'r') as file:\n",
    "            for line in file:\n",
    "                lst = line.strip().split(\"/\")\n",
    "\n",
    "                # create setID\n",
    "                setID = len(setID_wID_lst)\n",
    "\n",
    "                wID_lst = []\n",
    "\n",
    "                # obtain wID / crate new one\n",
    "                for word in lst:\n",
    "                    if word in word_wID:\n",
    "                        wID = word_wID[word]\n",
    "                        wID_setID_lst[wID].append(setID)\n",
    "                    else:\n",
    "                        wID = len(word_wID)\n",
    "                        word_wID[word] = wID\n",
    "                        wID_word[wID] = word\n",
    "                        wID_setID_lst[wID] = [setID]\n",
    "\n",
    "                    wID_lst.append(wID)\n",
    "\n",
    "                # solve the setID_words ...\n",
    "                setID_wID_lst[setID] = wID_lst\n",
    "                \n",
    "    to_save = (word_wID, wID_word, wID_setID_lst, setID_wID_lst)\n",
    "    save_data(to_save, target_file)"
   ]
  },
  {
   "cell_type": "code",
   "execution_count": 5,
   "metadata": {},
   "outputs": [],
   "source": [
    "files = [\"./homonyms-data/scraped-merged.txt\",  \"./homonyms-data/giza-homonyms.txt\"]\n",
    "db_file = \"./homonyms-data/honyme_db\"\n",
    "create_db_from_homonyme_files(files, db_file)"
   ]
  },
  {
   "cell_type": "code",
   "execution_count": null,
   "metadata": {},
   "outputs": [],
   "source": []
  }
 ],
 "metadata": {
  "kernelspec": {
   "display_name": "Python 3",
   "language": "python",
   "name": "python3"
  },
  "language_info": {
   "codemirror_mode": {
    "name": "ipython",
    "version": 3
   },
   "file_extension": ".py",
   "mimetype": "text/x-python",
   "name": "python",
   "nbconvert_exporter": "python",
   "pygments_lexer": "ipython3",
   "version": "3.7.3"
  }
 },
 "nbformat": 4,
 "nbformat_minor": 4
}
